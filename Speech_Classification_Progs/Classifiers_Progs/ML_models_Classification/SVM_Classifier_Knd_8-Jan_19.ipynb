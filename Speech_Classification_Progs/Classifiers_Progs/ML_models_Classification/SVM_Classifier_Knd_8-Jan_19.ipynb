{
 "cells": [
  {
   "cell_type": "code",
   "execution_count": 1,
   "metadata": {
    "collapsed": true
   },
   "outputs": [],
   "source": [
    "%config IPCompleter.greedy=True"
   ]
  },
  {
   "cell_type": "code",
   "execution_count": 2,
   "metadata": {
    "collapsed": true
   },
   "outputs": [],
   "source": [
    "from sklearn.model_selection import cross_val_score\n",
    "from sklearn.model_selection import train_test_split"
   ]
  },
  {
   "cell_type": "code",
   "execution_count": 3,
   "metadata": {
    "collapsed": true
   },
   "outputs": [],
   "source": [
    "from sklearn import svm\n",
    "import numpy as np\n",
    "import pandas as pd\n",
    "import sys\n",
    "import pickle\n",
    "import csv"
   ]
  },
  {
   "cell_type": "markdown",
   "metadata": {},
   "source": [
    "# Database_Sentence_Kannada_680_Samples"
   ]
  },
  {
   "cell_type": "code",
   "execution_count": 4,
   "metadata": {
    "collapsed": true
   },
   "outputs": [],
   "source": [
    "path_to_data = '/home/lenovo/2019/Prathvi/NeuralNetwork/Project/Kannadaextracted_Features/splitmonodata/'\n",
    "\n",
    "max_classes = 5;\n",
    "#Don't Edit this Below Code\n",
    "max_classes += 1;"
   ]
  },
  {
   "cell_type": "markdown",
   "metadata": {},
   "source": [
    "##### Read the file.csv  in Text Mode\n",
    "- mode='rt' or mode='r'\n",
    "\n",
    "\n",
    "Here, Read the file.csv  in Text Mode to Extract the Contents in it using above code.\n",
    "      "
   ]
  },
  {
   "cell_type": "code",
   "execution_count": 5,
   "metadata": {
    "collapsed": true
   },
   "outputs": [],
   "source": [
    "X_mfcc = []\n",
    "Y_mfcc = []"
   ]
  },
  {
   "cell_type": "markdown",
   "metadata": {},
   "source": [
    "## CSV Not With PICKLE(PYTHON_eNCODING format)\n",
    "- If the CSV file is Not Generated using PICKLE then to OPEN the file is the following way:"
   ]
  },
  {
   "cell_type": "markdown",
   "metadata": {},
   "source": [
    "with open(path_to_data + 'MFCC_Features/MFCC_features_' + str(max_classes-1) + '.csv',mode='rt') as fp: \n",
    "    X_Mfccs= csv.reader(fp, delimiter=',',quotechar='|')\n",
    "    \n",
    "    for row in X_Mfccs:\n",
    "        if len(row)!= 0:\n",
    "            X_mfcc = X_mfcc + [row]\n",
    "        \n",
    "    print(fp.closed)\n",
    "with open(path_to_data + 'MFCC_Features/MFCC_labels_' + str(max_classes-1) + '.csv',mode='rt') as fp:\n",
    "    y_labels = csv.reader(fp, delimiter=',',quotechar='|')\n",
    "    \n",
    "    for row in y_labels:\n",
    "        if len(row)!= 0:\n",
    "            Y_mfcc = Y_mfcc + [row]\n",
    "        \n",
    "    print(fp.closed)"
   ]
  },
  {
   "cell_type": "markdown",
   "metadata": {},
   "source": [
    "#### Error - while trying to Open a \"(pickle)\"- Encoded CSV file\n",
    " If U are trying to Open a \"(pickle)\"- Encoded CSV file, then this Error will Arise:\n",
    "- UnicodeDecodeError: 'utf-8' codec can't decode byte 0x80 in position 0: invalid start byte\n"
   ]
  },
  {
   "cell_type": "markdown",
   "metadata": {},
   "source": [
    "## Opening CSV file Encoded using \"PICKLE\"_PYTHON Encoding"
   ]
  },
  {
   "cell_type": "markdown",
   "metadata": {},
   "source": [
    "## MFCC__Features"
   ]
  },
  {
   "cell_type": "markdown",
   "metadata": {},
   "source": [
    "#### Path_to_Features for Loading"
   ]
  },
  {
   "cell_type": "code",
   "execution_count": 7,
   "metadata": {},
   "outputs": [],
   "source": [
    "with open(path_to_data + 'MFCC_Features/MFCC_40_labels_' + str(max_classes-1) + '.csv',mode='rb') as fp: \n",
    "    y_mfcc= pickle.load(fp)\n",
    "\n",
    "    \n",
    "with open(path_to_data + 'MFCC_Features/MFCC_40_features_' + str(max_classes-1) + '.csv',mode='rb') as fp: \n",
    "    X_mfcc= pickle.load(fp,encoding='latin1') "
   ]
  },
  {
   "cell_type": "code",
   "execution_count": 8,
   "metadata": {
    "collapsed": true
   },
   "outputs": [],
   "source": [
    "X_fs = np.array(X_mfcc)\n",
    "Y_ls = np.array(y_mfcc)"
   ]
  },
  {
   "cell_type": "code",
   "execution_count": 9,
   "metadata": {},
   "outputs": [
    {
     "data": {
      "text/plain": [
       "((972, 40), (972,))"
      ]
     },
     "execution_count": 9,
     "metadata": {},
     "output_type": "execute_result"
    }
   ],
   "source": [
    "X_fs.shape, Y_ls.shape"
   ]
  },
  {
   "cell_type": "markdown",
   "metadata": {},
   "source": [
    "#### Splitting Data for TRAINing & TESTing"
   ]
  },
  {
   "cell_type": "code",
   "execution_count": 11,
   "metadata": {},
   "outputs": [
    {
     "data": {
      "text/plain": [
       "((680, 40), (680,), (292, 40), (292,))"
      ]
     },
     "execution_count": 11,
     "metadata": {},
     "output_type": "execute_result"
    }
   ],
   "source": [
    "X_train, X_test, y_train, y_test = train_test_split(X_fs,Y_ls, test_size=0.3,  random_state=5)\n",
    "X_train.shape, y_train.shape, X_test.shape, y_test.shape"
   ]
  },
  {
   "cell_type": "markdown",
   "metadata": {},
   "source": [
    "### SVM Models (for Classification of Dialects)"
   ]
  },
  {
   "cell_type": "markdown",
   "metadata": {},
   "source": [
    "- Linear Kernel"
   ]
  },
  {
   "cell_type": "code",
   "execution_count": 12,
   "metadata": {},
   "outputs": [
    {
     "data": {
      "text/plain": [
       "array([ 0.75634518,  0.7755102 ,  0.77202073,  0.74093264,  0.80310881])"
      ]
     },
     "execution_count": 12,
     "metadata": {},
     "output_type": "execute_result"
    }
   ],
   "source": [
    "clf_fold = svm.SVC(kernel='linear', C=1)\n",
    "\n",
    "scores_lsvm =cross_val_score(clf_fold,X_fs,Y_ls, cv=5)\n",
    "\n",
    "scores_lsvm"
   ]
  },
  {
   "cell_type": "code",
   "execution_count": 13,
   "metadata": {},
   "outputs": [
    {
     "name": "stdout",
     "output_type": "stream",
     "text": [
      "Accuracy: 0.77 (+/- 0.04)\n"
     ]
    }
   ],
   "source": [
    "print(\"Accuracy: %0.2f (+/- %0.2f)\" % (scores_lsvm.mean(), scores_lsvm.std() * 2))"
   ]
  },
  {
   "cell_type": "markdown",
   "metadata": {},
   "source": [
    "- Radial basis function - \"rbf\" Kernel"
   ]
  },
  {
   "cell_type": "code",
   "execution_count": 14,
   "metadata": {},
   "outputs": [
    {
     "data": {
      "text/plain": [
       "array([ 0.3       ,  0.3       ,  0.28571429,  0.28571429,  0.28571429,\n",
       "        0.29896907,  0.29166667,  0.29473684,  0.31578947,  0.29473684])"
      ]
     },
     "execution_count": 14,
     "metadata": {},
     "output_type": "execute_result"
    }
   ],
   "source": [
    "clf_rbf = svm.SVC(kernel='rbf', C=1)\n",
    "\n",
    "scores_rbf_svm =cross_val_score(clf_rbf,X_fs,Y_ls, cv=10)\n",
    "\n",
    "scores_rbf_svm"
   ]
  },
  {
   "cell_type": "code",
   "execution_count": 15,
   "metadata": {},
   "outputs": [
    {
     "name": "stdout",
     "output_type": "stream",
     "text": [
      "Accuracy: 0.30 (+/- 0.02)\n"
     ]
    }
   ],
   "source": [
    "print(\"Accuracy: %0.2f (+/- %0.2f)\" % (scores_rbf_svm.mean(), scores_rbf_svm.std() * 2))"
   ]
  },
  {
   "cell_type": "markdown",
   "metadata": {},
   "source": [
    "## Delta_mfcc Features Path"
   ]
  },
  {
   "cell_type": "markdown",
   "metadata": {},
   "source": [
    "#### Path_to_Features for Loading"
   ]
  },
  {
   "cell_type": "code",
   "execution_count": 14,
   "metadata": {
    "collapsed": true
   },
   "outputs": [],
   "source": [
    "with open(path_to_data + 'MFCC_Features/delta_labels_' + str(max_classes-1) + '.csv',mode='rb') as fp: \n",
    "    y_delta = pickle.load(fp)\n",
    "with open(path_to_data + 'MFCC_Features/delta_features_' + str(max_classes-1) + '.csv',mode='rb') as fp: \n",
    "    X_delta = pickle.load(fp,encoding='latin1')"
   ]
  },
  {
   "cell_type": "code",
   "execution_count": 15,
   "metadata": {
    "collapsed": true
   },
   "outputs": [],
   "source": [
    "X_Dmfs = np.array(X_delta)\n",
    "Y_Dls = np.array(y_delta)"
   ]
  },
  {
   "cell_type": "code",
   "execution_count": 16,
   "metadata": {},
   "outputs": [
    {
     "data": {
      "text/plain": [
       "((653, 40), (653,))"
      ]
     },
     "execution_count": 16,
     "metadata": {},
     "output_type": "execute_result"
    }
   ],
   "source": [
    "X_Dmfs.shape, Y_Dls.shape"
   ]
  },
  {
   "cell_type": "markdown",
   "metadata": {},
   "source": [
    "#### Splitting Data for TRAINing & TESTing"
   ]
  },
  {
   "cell_type": "code",
   "execution_count": 18,
   "metadata": {},
   "outputs": [
    {
     "data": {
      "text/plain": [
       "((457, 40), (457,), (196, 40), (196,))"
      ]
     },
     "execution_count": 18,
     "metadata": {},
     "output_type": "execute_result"
    }
   ],
   "source": [
    "X_train, X_test, y_train, y_test = train_test_split(X_Dmfs,Y_Dls, test_size=0.,  random_state=0)\n",
    "X_train.shape, y_train.shape, X_test.shape, y_test.shape"
   ]
  },
  {
   "cell_type": "markdown",
   "metadata": {},
   "source": [
    "### SVM Models (for Classification of Dialects)"
   ]
  },
  {
   "cell_type": "markdown",
   "metadata": {},
   "source": [
    "- Linear Kernel"
   ]
  },
  {
   "cell_type": "code",
   "execution_count": 19,
   "metadata": {},
   "outputs": [
    {
     "data": {
      "text/plain": [
       "array([ 0.88571429,  0.94202899,  0.95652174,  0.92753623,  0.95588235,\n",
       "        0.95588235,  0.97014925,  0.95522388,  0.89552239,  0.89393939])"
      ]
     },
     "execution_count": 19,
     "metadata": {},
     "output_type": "execute_result"
    }
   ],
   "source": [
    "clf_fold = svm.SVC(kernel='linear', C=1)\n",
    "\n",
    "scores_lsvm =cross_val_score(clf_fold,X_fs,Y_ls, cv=10)\n",
    "\n",
    "scores_lsvm"
   ]
  },
  {
   "cell_type": "code",
   "execution_count": 20,
   "metadata": {},
   "outputs": [
    {
     "name": "stdout",
     "output_type": "stream",
     "text": [
      "Accuracy: 0.93 (+/- 0.06)\n"
     ]
    }
   ],
   "source": [
    "print(\"Accuracy: %0.2f (+/- %0.2f)\" % (scores_lsvm.mean(), scores_lsvm.std() * 2))"
   ]
  },
  {
   "cell_type": "markdown",
   "metadata": {},
   "source": [
    "- Radial basis function - \"rbf\" Kernel"
   ]
  },
  {
   "cell_type": "code",
   "execution_count": 21,
   "metadata": {},
   "outputs": [
    {
     "data": {
      "text/plain": [
       "array([ 0.67647059,  0.84848485,  0.74242424,  0.78787879,  0.78461538,\n",
       "        0.78461538,  0.81538462,  0.703125  ,  0.71875   ,  0.703125  ])"
      ]
     },
     "execution_count": 21,
     "metadata": {},
     "output_type": "execute_result"
    }
   ],
   "source": [
    "clf_rbf = svm.SVC(kernel='rbf', C=1)\n",
    "\n",
    "scores_rbf_svm =cross_val_score(clf_rbf,X_Dmfs,Y_Dls, cv=10)\n",
    "\n",
    "scores_rbf_svm"
   ]
  },
  {
   "cell_type": "code",
   "execution_count": 22,
   "metadata": {},
   "outputs": [
    {
     "name": "stdout",
     "output_type": "stream",
     "text": [
      "Accuracy: 0.76 (+/- 0.11)\n"
     ]
    }
   ],
   "source": [
    "print(\"Accuracy: %0.2f (+/- %0.2f)\" % (scores_rbf_svm.mean(), scores_rbf_svm.std() * 2))"
   ]
  },
  {
   "cell_type": "markdown",
   "metadata": {},
   "source": [
    "## Delta_Delta_mfcc Features"
   ]
  },
  {
   "cell_type": "markdown",
   "metadata": {},
   "source": [
    "#### Path_to_Features for Loading"
   ]
  },
  {
   "cell_type": "code",
   "execution_count": 23,
   "metadata": {
    "collapsed": true
   },
   "outputs": [],
   "source": [
    "with open(path_to_data + 'MFCC_Features/delta2_labels_' + str(max_classes-1) + '.csv',mode='rb') as fp: \n",
    "    y_delta2 = pickle.load(fp)\n",
    "\n",
    "with open(path_to_data + 'MFCC_Features/delta2_features_' + str(max_classes-1) + '.csv',mode='rb') as fp: \n",
    "    X_delta2 = pickle.load(fp,encoding='latin1')"
   ]
  },
  {
   "cell_type": "code",
   "execution_count": 24,
   "metadata": {
    "collapsed": true
   },
   "outputs": [],
   "source": [
    "X_DDmfs = np.array(X_delta2)\n",
    "Y_DDls = np.array(y_delta2)"
   ]
  },
  {
   "cell_type": "code",
   "execution_count": 25,
   "metadata": {},
   "outputs": [
    {
     "data": {
      "text/plain": [
       "((653, 40), (653,))"
      ]
     },
     "execution_count": 25,
     "metadata": {},
     "output_type": "execute_result"
    }
   ],
   "source": [
    "X_DDmfs.shape, Y_DDls.shape"
   ]
  },
  {
   "cell_type": "markdown",
   "metadata": {},
   "source": [
    "#### Splitting Data for TRAINing & TESTing"
   ]
  },
  {
   "cell_type": "code",
   "execution_count": 26,
   "metadata": {},
   "outputs": [
    {
     "data": {
      "text/plain": [
       "((457, 40), (457,), (196, 40), (196,))"
      ]
     },
     "execution_count": 26,
     "metadata": {},
     "output_type": "execute_result"
    }
   ],
   "source": [
    "X_train, X_test, y_train, y_test = train_test_split(X_DDmfs,Y_DDls, test_size=0.3,  random_state=0)\n",
    "X_train.shape, y_train.shape, X_test.shape, y_test.shape"
   ]
  },
  {
   "cell_type": "markdown",
   "metadata": {},
   "source": [
    "### SVM Models (for Classification of Dialects)"
   ]
  },
  {
   "cell_type": "markdown",
   "metadata": {},
   "source": [
    "- Linear Kernel"
   ]
  },
  {
   "cell_type": "code",
   "execution_count": 27,
   "metadata": {},
   "outputs": [
    {
     "data": {
      "text/plain": [
       "array([ 0.72058824,  0.84848485,  0.87878788,  0.75757576,  0.73846154,\n",
       "        0.86153846,  0.8       ,  0.734375  ,  0.78125   ,  0.703125  ])"
      ]
     },
     "execution_count": 27,
     "metadata": {},
     "output_type": "execute_result"
    }
   ],
   "source": [
    "clf_fold = svm.SVC(kernel='linear', C=1)\n",
    "\n",
    "scores_lsvm =cross_val_score(clf_fold,X_DDmfs,Y_DDls, cv=10)\n",
    "\n",
    "scores_lsvm"
   ]
  },
  {
   "cell_type": "code",
   "execution_count": 28,
   "metadata": {},
   "outputs": [
    {
     "name": "stdout",
     "output_type": "stream",
     "text": [
      "Accuracy: 0.78 (+/- 0.12)\n"
     ]
    }
   ],
   "source": [
    "print(\"Accuracy: %0.2f (+/- %0.2f)\" % (scores_lsvm.mean(), scores_lsvm.std() * 2))"
   ]
  },
  {
   "cell_type": "markdown",
   "metadata": {},
   "source": [
    "- Radial basis function - \"rbf\" Kernel"
   ]
  },
  {
   "cell_type": "code",
   "execution_count": 29,
   "metadata": {},
   "outputs": [
    {
     "data": {
      "text/plain": [
       "array([ 0.67647059,  0.84848485,  0.74242424,  0.78787879,  0.78461538,\n",
       "        0.78461538,  0.81538462,  0.703125  ,  0.71875   ,  0.703125  ])"
      ]
     },
     "execution_count": 29,
     "metadata": {},
     "output_type": "execute_result"
    }
   ],
   "source": [
    "clf_rbf = svm.SVC(kernel='rbf', C=1)\n",
    "\n",
    "scores_rbf_svm =cross_val_score(clf_rbf,X_Dmfs,Y_Dls, cv=10)\n",
    "\n",
    "scores_rbf_svm"
   ]
  },
  {
   "cell_type": "code",
   "execution_count": 30,
   "metadata": {},
   "outputs": [
    {
     "name": "stdout",
     "output_type": "stream",
     "text": [
      "Accuracy: 0.76 (+/- 0.11)\n"
     ]
    }
   ],
   "source": [
    "print(\"Accuracy: %0.2f (+/- %0.2f)\" % (scores_rbf_svm.mean(), scores_rbf_svm.std() * 2))"
   ]
  },
  {
   "cell_type": "markdown",
   "metadata": {},
   "source": [
    "## MelSpectrogram Features"
   ]
  },
  {
   "cell_type": "markdown",
   "metadata": {},
   "source": [
    "#### Path_to_Features for Loading"
   ]
  },
  {
   "cell_type": "code",
   "execution_count": 60,
   "metadata": {
    "collapsed": true
   },
   "outputs": [],
   "source": [
    "with open(path_to_data + 'MelSpec_Features/Mel_labels_' + str(max_classes-1) + '.csv',mode='rb') as fp: \n",
    "    y_mel= pickle.load(fp)\n",
    "    \n",
    "with open(path_to_data + 'MelSpec_Features/Mel_features_' + str(max_classes-1) + '.csv',mode='rb') as fp: \n",
    "    X_mel= pickle.load(fp,encoding='latin1') "
   ]
  },
  {
   "cell_type": "code",
   "execution_count": 61,
   "metadata": {
    "collapsed": true
   },
   "outputs": [],
   "source": [
    "X_melfs = np.array(X_mel)\n",
    "Y_mels = np.array(y_mel)"
   ]
  },
  {
   "cell_type": "code",
   "execution_count": 62,
   "metadata": {},
   "outputs": [
    {
     "data": {
      "text/plain": [
       "((1574, 128), (1574,))"
      ]
     },
     "execution_count": 62,
     "metadata": {},
     "output_type": "execute_result"
    }
   ],
   "source": [
    "X_melfs.shape, Y_mels.shape"
   ]
  },
  {
   "cell_type": "markdown",
   "metadata": {},
   "source": [
    "#### Splitting Data for TRAINing & TESTing"
   ]
  },
  {
   "cell_type": "code",
   "execution_count": 63,
   "metadata": {},
   "outputs": [
    {
     "data": {
      "text/plain": [
       "((1259, 128), (1259,), (315, 128), (315,))"
      ]
     },
     "execution_count": 63,
     "metadata": {},
     "output_type": "execute_result"
    }
   ],
   "source": [
    "X_train, X_test, y_train, y_test = train_test_split(X_melfs,Y_mels, test_size=0.2,  random_state=0)\n",
    "X_train.shape, y_train.shape, X_test.shape, y_test.shape"
   ]
  },
  {
   "cell_type": "markdown",
   "metadata": {},
   "source": [
    "### SVM Models (for Classification of Dialects)"
   ]
  },
  {
   "cell_type": "markdown",
   "metadata": {},
   "source": [
    "- Linear Kernel"
   ]
  },
  {
   "cell_type": "code",
   "execution_count": 65,
   "metadata": {},
   "outputs": [
    {
     "data": {
      "text/plain": [
       "array([ 0.3125    ,  0.24375   ,  0.3       ,  0.34591195,  0.29299363,\n",
       "        0.32051282,  0.30128205,  0.35897436,  0.42580645,  0.33548387])"
      ]
     },
     "execution_count": 65,
     "metadata": {},
     "output_type": "execute_result"
    }
   ],
   "source": [
    "clf_fold = svm.SVC(kernel='linear', C=1)\n",
    "\n",
    "scores_lsvm =cross_val_score(clf_fold,X_melfs,Y_mels, cv=10)\n",
    "\n",
    "scores_lsvm"
   ]
  },
  {
   "cell_type": "code",
   "execution_count": 66,
   "metadata": {},
   "outputs": [
    {
     "name": "stdout",
     "output_type": "stream",
     "text": [
      "Accuracy: 0.32 (+/- 0.09)\n"
     ]
    }
   ],
   "source": [
    "print(\"Accuracy: %0.2f (+/- %0.2f)\" % (scores_lsvm.mean(), scores_lsvm.std() * 2))"
   ]
  },
  {
   "cell_type": "markdown",
   "metadata": {},
   "source": [
    "- Radial basis function - \"rbf\" Kernel"
   ]
  },
  {
   "cell_type": "code",
   "execution_count": 69,
   "metadata": {},
   "outputs": [
    {
     "data": {
      "text/plain": [
       "array([ 0.2875    ,  0.3       ,  0.28125   ,  0.41509434,  0.33121019,\n",
       "        0.30769231,  0.30769231,  0.34615385,  0.30967742,  0.30967742])"
      ]
     },
     "execution_count": 69,
     "metadata": {},
     "output_type": "execute_result"
    }
   ],
   "source": [
    "clf_rbf = svm.SVC(kernel='rbf', C=1)\n",
    "\n",
    "scores_rbf_svm_melS =cross_val_score(clf_rbf,X_melfs,Y_mels, cv=10)\n",
    "\n",
    "scores_rbf_svm_melS"
   ]
  },
  {
   "cell_type": "code",
   "execution_count": 70,
   "metadata": {},
   "outputs": [
    {
     "name": "stdout",
     "output_type": "stream",
     "text": [
      "Accuracy: 0.32 (+/- 0.07)\n"
     ]
    }
   ],
   "source": [
    "print(\"Accuracy: %0.2f (+/- %0.2f)\" % (scores_rbf_svm_melS.mean(), scores_rbf_svm_melS.std() * 2))"
   ]
  },
  {
   "cell_type": "markdown",
   "metadata": {},
   "source": [
    "## Prosodic Features"
   ]
  },
  {
   "cell_type": "markdown",
   "metadata": {},
   "source": [
    "#### Path_to_Features for Loading"
   ]
  },
  {
   "cell_type": "code",
   "execution_count": 44,
   "metadata": {
    "collapsed": true
   },
   "outputs": [],
   "source": [
    "with open(path_to_data + 'Prosodic_Features/prosodic_labels_' + str(max_classes-1) + '.csv',mode='rb') as fp: \n",
    "    y_pros= pickle.load(fp)\n",
    "    \n",
    "with open(path_to_data + 'Prosodic_Features/prosodic_features_' + str(max_classes-1) + '.csv',mode='rb') as fp: \n",
    "    X_pros= pickle.load(fp,encoding='latin1') "
   ]
  },
  {
   "cell_type": "code",
   "execution_count": 45,
   "metadata": {
    "collapsed": true
   },
   "outputs": [],
   "source": [
    "X_profs = np.array(X_pros)\n",
    "Y_prols = np.array(y_pros)"
   ]
  },
  {
   "cell_type": "code",
   "execution_count": 46,
   "metadata": {},
   "outputs": [
    {
     "data": {
      "text/plain": [
       "((680, 3), (680,))"
      ]
     },
     "execution_count": 46,
     "metadata": {},
     "output_type": "execute_result"
    }
   ],
   "source": [
    "X_profs.shape, Y_prols.shape"
   ]
  },
  {
   "cell_type": "markdown",
   "metadata": {},
   "source": [
    "#### Splitting Data for TRAINing & TESTing"
   ]
  },
  {
   "cell_type": "code",
   "execution_count": 47,
   "metadata": {},
   "outputs": [
    {
     "data": {
      "text/plain": [
       "((544, 3), (544,), (136, 3), (136,))"
      ]
     },
     "execution_count": 47,
     "metadata": {},
     "output_type": "execute_result"
    }
   ],
   "source": [
    "X_train, X_test, y_train, y_test = train_test_split(X_profs,Y_prols, test_size=0.2,  random_state=0)\n",
    "X_train.shape, y_train.shape, X_test.shape, y_test.shape"
   ]
  },
  {
   "cell_type": "markdown",
   "metadata": {},
   "source": [
    "### SVM Models (for Classification of Dialects)"
   ]
  },
  {
   "cell_type": "markdown",
   "metadata": {},
   "source": [
    "- Linear Kernel"
   ]
  },
  {
   "cell_type": "code",
   "execution_count": 48,
   "metadata": {},
   "outputs": [
    {
     "data": {
      "text/plain": [
       "array([ 0.45714286,  0.42028986,  0.43478261,  0.47826087,  0.5       ,\n",
       "        0.5       ,  0.49253731,  0.46268657,  0.50746269,  0.56060606])"
      ]
     },
     "execution_count": 48,
     "metadata": {},
     "output_type": "execute_result"
    }
   ],
   "source": [
    "clf_fold = svm.SVC(kernel='linear', C=1)\n",
    "\n",
    "scores_lsvm_pro =cross_val_score(clf_fold,X_profs,Y_prols, cv=10)\n",
    "\n",
    "scores_lsvm_pro"
   ]
  },
  {
   "cell_type": "code",
   "execution_count": 49,
   "metadata": {},
   "outputs": [
    {
     "name": "stdout",
     "output_type": "stream",
     "text": [
      "Accuracy: 0.48 (+/- 0.08)\n"
     ]
    }
   ],
   "source": [
    "print(\"Accuracy: %0.2f (+/- %0.2f)\" % (scores_lsvm_pro.mean(), scores_lsvm_pro.std() * 2))"
   ]
  },
  {
   "cell_type": "markdown",
   "metadata": {},
   "source": [
    "- Radial basis function - \"rbf\" Kernel"
   ]
  },
  {
   "cell_type": "code",
   "execution_count": null,
   "metadata": {
    "collapsed": true
   },
   "outputs": [],
   "source": [
    "clf_rbf = svm.SVC(kernel='rbf', C=1)\n",
    "\n",
    "scores_rbf_svm_pros =cross_val_score(clf_rbf,X_melfs,Y_mels, cv=10)\n",
    "\n",
    "scores_rbf_svm_pros"
   ]
  },
  {
   "cell_type": "code",
   "execution_count": null,
   "metadata": {
    "collapsed": true
   },
   "outputs": [],
   "source": [
    "print(\"Accuracy: %0.2f (+/- %0.2f)\" % (scores_rbf_svm_pros.mean(), scores_rbf_svm_pros.std() * 2))"
   ]
  },
  {
   "cell_type": "code",
   "execution_count": null,
   "metadata": {
    "collapsed": true
   },
   "outputs": [],
   "source": []
  },
  {
   "cell_type": "code",
   "execution_count": null,
   "metadata": {
    "collapsed": true
   },
   "outputs": [],
   "source": []
  },
  {
   "cell_type": "markdown",
   "metadata": {},
   "source": [
    "## Transform the Matrix Shapes\n",
    "  - XiV_features = np.array(X_iV).T\n",
    "  - YiV_labels = np.array(Y_iV).T\n",
    "\n",
    "Here, Tranform is being done to Reshape the Martix Shapes, Such that (#Samples, #features)"
   ]
  },
  {
   "cell_type": "code",
   "execution_count": 108,
   "metadata": {
    "collapsed": true
   },
   "outputs": [],
   "source": [
    "XiV_features = np.array(X_iV).T\n",
    "YiV_labels = np.array(Y_iV).T"
   ]
  },
  {
   "cell_type": "markdown",
   "metadata": {},
   "source": [
    "Here,below you can See the Difference:"
   ]
  },
  {
   "cell_type": "code",
   "execution_count": 91,
   "metadata": {},
   "outputs": [
    {
     "data": {
      "text/plain": [
       "((400, 350), (400, 1))"
      ]
     },
     "execution_count": 91,
     "metadata": {},
     "output_type": "execute_result"
    }
   ],
   "source": [
    "XiV_features.shape, YiV_labels.shape"
   ]
  },
  {
   "cell_type": "code",
   "execution_count": 111,
   "metadata": {
    "collapsed": true
   },
   "outputs": [],
   "source": [
    "YiV_labels = YiV_labels.reshape(400,);"
   ]
  },
  {
   "cell_type": "markdown",
   "metadata": {},
   "source": [
    "#### Above Reshape() is used to Avoid this following Error\n",
    "- /home/lenovo/anaconda3/lib/python3.6/site-packages/sklearn/utils/validation.py:578: DataConversionWarning: A column-vector y was passed when a 1d array was expected. Please change the shape of y to (n_samples, ), for example using ravel().\n",
    "  y = column_or_1d(y, warn=True)"
   ]
  }
 ],
 "metadata": {
  "kernelspec": {
   "display_name": "Python 3",
   "language": "python",
   "name": "python3"
  },
  "language_info": {
   "codemirror_mode": {
    "name": "ipython",
    "version": 3
   },
   "file_extension": ".py",
   "mimetype": "text/x-python",
   "name": "python",
   "nbconvert_exporter": "python",
   "pygments_lexer": "ipython3",
   "version": "3.6.4"
  }
 },
 "nbformat": 4,
 "nbformat_minor": 2
}

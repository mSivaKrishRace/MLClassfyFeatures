{
 "cells": [
  {
   "cell_type": "markdown",
   "metadata": {},
   "source": [
    "### Extracts all features from all sentence audio files except: Chroma Deviation and Chroma Vector"
   ]
  },
  {
   "cell_type": "code",
   "execution_count": 2,
   "metadata": {},
   "outputs": [
    {
     "ename": "ImportError",
     "evalue": "No module named pyAudioAnalysis",
     "output_type": "error",
     "traceback": [
      "\u001b[0;31m---------------------------------------------------------------------------\u001b[0m",
      "\u001b[0;31mImportError\u001b[0m                               Traceback (most recent call last)",
      "\u001b[0;32m<ipython-input-2-a1955e5d36bc>\u001b[0m in \u001b[0;36m<module>\u001b[0;34m()\u001b[0m\n\u001b[1;32m      1\u001b[0m \u001b[0;32mimport\u001b[0m \u001b[0mnumpy\u001b[0m \u001b[0;32mas\u001b[0m \u001b[0mnp\u001b[0m\u001b[0;34m\u001b[0m\u001b[0m\n\u001b[1;32m      2\u001b[0m \u001b[0;32mimport\u001b[0m \u001b[0msys\u001b[0m\u001b[0;34m\u001b[0m\u001b[0m\n\u001b[0;32m----> 3\u001b[0;31m \u001b[0;32mimport\u001b[0m \u001b[0mpyAudioAnalysis\u001b[0m\u001b[0;34m\u001b[0m\u001b[0m\n\u001b[0m\u001b[1;32m      4\u001b[0m \u001b[0msys\u001b[0m\u001b[0;34m.\u001b[0m\u001b[0mpath\u001b[0m\u001b[0;34m.\u001b[0m\u001b[0minsert\u001b[0m\u001b[0;34m(\u001b[0m\u001b[0;36m0\u001b[0m\u001b[0;34m,\u001b[0m \u001b[0;34m'../pyAudioAnalysis-master'\u001b[0m\u001b[0;34m)\u001b[0m\u001b[0;34m\u001b[0m\u001b[0m\n\u001b[1;32m      5\u001b[0m \u001b[0;32mimport\u001b[0m \u001b[0maudioBasicIO\u001b[0m\u001b[0;34m\u001b[0m\u001b[0m\n",
      "\u001b[0;31mImportError\u001b[0m: No module named pyAudioAnalysis"
     ]
    }
   ],
   "source": [
    "import numpy as np\n",
    "import sys\n",
    "import pyAudioAnalysis\n",
    "sys.path.insert(0, '../pyAudioAnalysis-master')\n",
    "import audioBasicIO\n",
    "import audioFeatureExtraction\n",
    "import pickle\n",
    "from pydub import AudioSegment\n",
    "import os"
   ]
  },
  {
   "cell_type": "markdown",
   "metadata": {},
   "source": [
    "### Please uncomment the appropriate path to the folder"
   ]
  },
  {
   "cell_type": "code",
   "execution_count": 2,
   "metadata": {
    "collapsed": true
   },
   "outputs": [],
   "source": [
    "path_to_files = '/home/lenovo/All5_KannadaDataAug2018/5_Class_Sentc_Knd_Data/'\n",
    "folder_path = '/home/lenovo/All5_KannadaDataAug2018/5_Class_Sentc_Knd_Extracd_Features/'\n",
    "max_classes = 5\n",
    "\n",
    "#Dont Edit\n",
    "max_classes += 1;"
   ]
  },
  {
   "cell_type": "code",
   "execution_count": 3,
   "metadata": {
    "collapsed": true
   },
   "outputs": [],
   "source": [
    "\n",
    "X = []\n",
    "y = []\n",
    "\n",
    "#clip_names = [1,10,11,12,13,14];\n",
    "for i in range(1,max_classes):\n",
    "    folder_name =  path_to_files + 'D' + str(i) + '/'\n",
    "    path_list = os.listdir(folder_name)\n",
    "    #print path_list\n",
    "    for j in path_list:\n",
    "        if '.wav' in j:\n",
    "            #print current_path + j\n",
    "            y.append(i)\n",
    "            [Fs, x] = audioBasicIO.readAudioFile(folder_name + j);\n",
    "            try:\n",
    "                F = audioFeatureExtraction.stFeatureExtraction(x, Fs, 0.050*Fs, 0.025*Fs);\n",
    "                X.append(F)\n",
    "            except:\n",
    "                print ('Skipping this file'+str(i)+str(j))\n",
    "                continue"
   ]
  },
  {
   "cell_type": "code",
   "execution_count": 8,
   "metadata": {
    "collapsed": true
   },
   "outputs": [],
   "source": [
    "\n",
    "X = []\n",
    "y = []\n",
    "\n",
    "#clip_names = [1,10,11,12,13,14];\n",
    "for i in range(1,max_classes):\n",
    "    folder_name =  path_to_files + 'D' + str(i) + '/'\n",
    "    path_list = os.listdir(folder_name)\n",
    "    print(path_list)\n",
    "    for j in path_list:\n",
    "        if '.wav' in j:\n",
    "            #print current_path + j\n",
    "            y.append(i)\n",
    "            [Fs, x] = audioBasicIO.readAudioFile(folder_name + j);\n",
    "            try:\n",
    "                F = audioFeatureExtraction.stFeatureExtraction(x, Fs, 0.050*Fs, 0.025*Fs);\n",
    "                X.append(F)\n",
    "            except:\n",
    "                print ('Skipping this file'+str(i)+str(j))\n",
    "                continue"
   ]
  },
  {
   "cell_type": "code",
   "execution_count": 6,
   "metadata": {
    "collapsed": true
   },
   "outputs": [],
   "source": [
    "X_new = []\n",
    "for i in range(len(X)):\n",
    "    features = []\n",
    "    for j in range(len(X[i])):\n",
    "        if (j<=20):\n",
    "            features.append(X[i][j].mean())\n",
    "            features.append(X[i][j].std())\n",
    "    X_new.append(features)\n",
    "            "
   ]
  },
  {
   "cell_type": "code",
   "execution_count": 7,
   "metadata": {
    "collapsed": true
   },
   "outputs": [],
   "source": [
    "with open(folder_path +'All_Except_Chroma_Features/except_chroma_labels_' + str(max_classes-1) + '.txt',mode='wb') as fp: \n",
    "    pickle.dump(y,fp)\n",
    "\n",
    "with open(folder_path + 'All_Except_Chroma_Features/except_chroma_features_X_new' + str(max_classes-1) + '.txt',mode='wb') as fp: \n",
    "    pickle.dump(X,fp)"
   ]
  },
  {
   "cell_type": "code",
   "execution_count": 1,
   "metadata": {},
   "outputs": [
    {
     "name": "stdout",
     "output_type": "stream",
     "text": [
      "Object `audioFeatureExtraction.stFeatureExtraction` not found.\n"
     ]
    }
   ],
   "source": [
    "audioFeatureExtraction.stFeatureExtraction?"
   ]
  },
  {
   "cell_type": "code",
   "execution_count": 8,
   "metadata": {},
   "outputs": [
    {
     "data": {
      "text/plain": [
       "(637, 42)"
      ]
     },
     "execution_count": 8,
     "metadata": {},
     "output_type": "execute_result"
    }
   ],
   "source": [
    "np.array(X_new).shape\n"
   ]
  },
  {
   "cell_type": "code",
   "execution_count": 9,
   "metadata": {},
   "outputs": [
    {
     "data": {
      "text/plain": [
       "(34, 95)"
      ]
     },
     "execution_count": 9,
     "metadata": {},
     "output_type": "execute_result"
    }
   ],
   "source": [
    "F.shape"
   ]
  },
  {
   "cell_type": "code",
   "execution_count": 10,
   "metadata": {},
   "outputs": [
    {
     "data": {
      "text/plain": [
       "637"
      ]
     },
     "execution_count": 10,
     "metadata": {},
     "output_type": "execute_result"
    }
   ],
   "source": [
    "len(X)"
   ]
  },
  {
   "cell_type": "code",
   "execution_count": 15,
   "metadata": {},
   "outputs": [
    {
     "data": {
      "text/plain": [
       "34"
      ]
     },
     "execution_count": 15,
     "metadata": {},
     "output_type": "execute_result"
    }
   ],
   "source": [
    "len(X[0])"
   ]
  },
  {
   "cell_type": "code",
   "execution_count": 11,
   "metadata": {},
   "outputs": [
    {
     "data": {
      "text/plain": [
       "42"
      ]
     },
     "execution_count": 11,
     "metadata": {},
     "output_type": "execute_result"
    }
   ],
   "source": [
    "len(features)"
   ]
  },
  {
   "cell_type": "code",
   "execution_count": null,
   "metadata": {
    "collapsed": true
   },
   "outputs": [],
   "source": []
  }
 ],
 "metadata": {
  "kernelspec": {
   "display_name": "Python 2",
   "language": "python",
   "name": "python2"
  },
  "language_info": {
   "codemirror_mode": {
    "name": "ipython",
    "version": 2
   },
   "file_extension": ".py",
   "mimetype": "text/x-python",
   "name": "python",
   "nbconvert_exporter": "python",
   "pygments_lexer": "ipython2",
   "version": "2.7.11"
  }
 },
 "nbformat": 4,
 "nbformat_minor": 2
}

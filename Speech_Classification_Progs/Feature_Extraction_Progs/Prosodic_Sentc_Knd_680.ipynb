{
 "cells": [
  {
   "cell_type": "code",
   "execution_count": 1,
   "metadata": {
    "collapsed": true
   },
   "outputs": [],
   "source": [
    "import sys\n",
    "#sys.path.insert(0, 'pyAudioAnalysis')\n",
    "from pyAudioAnalysis import audioBasicIO\n",
    "from pyAudioAnalysis import audioFeatureExtraction\n",
    "import pickle\n",
    "from pydub import AudioSegment\n",
    "import librosa\n",
    "import numpy as np\n",
    "import os"
   ]
  },
  {
   "cell_type": "markdown",
   "metadata": {},
   "source": [
    "### Please uncomment the appropriate path to the folder"
   ]
  },
  {
   "cell_type": "code",
   "execution_count": 2,
   "metadata": {
    "collapsed": true
   },
   "outputs": [],
   "source": [
    "path_to_files = '/home/lenovo/All5_KannadaDataAug2018/5_Class_Sentc_Knd_Data/'\n",
    "folder_path = '/home/lenovo/All5_KannadaDataAug2018/5_Class_Sentc_Knd_Extracd_Features/'\n",
    "max_classes = 5\n",
    "\n",
    "#Dont Edit\n",
    "max_classes += 1;"
   ]
  },
  {
   "cell_type": "code",
   "execution_count": 3,
   "metadata": {
    "collapsed": true
   },
   "outputs": [],
   "source": [
    "skips = []"
   ]
  },
  {
   "cell_type": "code",
   "execution_count": 4,
   "metadata": {},
   "outputs": [
    {
     "name": "stdout",
     "output_type": "stream",
     "text": [
      "Skipping this file\n",
      "Skipping this file\n",
      "Skipping this file\n"
     ]
    }
   ],
   "source": [
    "\n",
    "X_pitch = []\n",
    "y_pitch = []\n",
    "\n",
    "for i in range(1,max_classes):\n",
    "    folder_name =  path_to_files + 'D' + str(i) + '/'\n",
    "    path_list = os.listdir(folder_name)\n",
    "    for j in path_list:\n",
    "        if '.wav' in j:\n",
    "            #print current_path + j\n",
    "            y_, sr = librosa.load(folder_name + j)\n",
    "            try:\n",
    "                pitches, magnitudes = librosa.piptrack(y=y_, sr=sr)\n",
    "            except:\n",
    "                print ('Skipping this file')\n",
    "                skips.append((i,j))\n",
    "                continue\n",
    "               \n",
    "           #Feature Summarization\n",
    "            num_of_bins = pitches.shape[0]\n",
    "            maxPitch = np.zeros((num_of_bins,1))\n",
    "           \n",
    "            for k in range(0,num_of_bins):\n",
    "                pitches_bin = pitches[k,:]\n",
    "                maxPitch[k] = np.max(pitches_bin)\n",
    "               \n",
    "            variancep = np.var(maxPitch)\n",
    "            maxp = np.max(maxPitch)\n",
    "            meanp = np.mean(maxPitch)\n",
    "           \n",
    "            pitch_cummulative_features = []\n",
    "            pitch_cummulative_features.append(variancep)\n",
    "            pitch_cummulative_features.append(maxp)\n",
    "            pitch_cummulative_features.append(meanp)\n",
    "           \n",
    "            X_pitch.append(pitch_cummulative_features)\n",
    "            y_pitch.append(i)"
   ]
  },
  {
   "cell_type": "code",
   "execution_count": 5,
   "metadata": {
    "collapsed": true
   },
   "outputs": [],
   "source": [
    "with open( folder_path + 'Prosodic_Features/prosodic_labels_' + str(max_classes-1) + '.csv',mode='wb') as fp: \n",
    "    pickle.dump(y_pitch,fp)\n",
    "\n",
    "with open(folder_path + 'Prosodic_Features/prosodic_features_' + str(max_classes-1) + '.csv',mode='wb') as fp: \n",
    "    pickle.dump(X_pitch,fp)"
   ]
  },
  {
   "cell_type": "code",
   "execution_count": 6,
   "metadata": {},
   "outputs": [
    {
     "data": {
      "text/plain": [
       "(680, 3)"
      ]
     },
     "execution_count": 6,
     "metadata": {},
     "output_type": "execute_result"
    }
   ],
   "source": [
    "np.array(X_pitch).shape"
   ]
  },
  {
   "cell_type": "code",
   "execution_count": 7,
   "metadata": {},
   "outputs": [
    {
     "data": {
      "text/plain": [
       "(680,)"
      ]
     },
     "execution_count": 7,
     "metadata": {},
     "output_type": "execute_result"
    }
   ],
   "source": [
    "np.array(y_pitch).shape"
   ]
  },
  {
   "cell_type": "code",
   "execution_count": null,
   "metadata": {
    "collapsed": true
   },
   "outputs": [],
   "source": []
  }
 ],
 "metadata": {
  "kernelspec": {
   "display_name": "Python 3",
   "language": "python",
   "name": "python3"
  },
  "language_info": {
   "codemirror_mode": {
    "name": "ipython",
    "version": 3
   },
   "file_extension": ".py",
   "mimetype": "text/x-python",
   "name": "python",
   "nbconvert_exporter": "python",
   "pygments_lexer": "ipython3",
   "version": "3.6.4"
  }
 },
 "nbformat": 4,
 "nbformat_minor": 2
}

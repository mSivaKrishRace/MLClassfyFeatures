{
 "cells": [
  {
   "cell_type": "markdown",
   "metadata": {},
   "source": [
    "# Slicing_one Single Large 'wav' file into 'Time Line chunks in Equal number of Seconds '"
   ]
  },
  {
   "cell_type": "code",
   "execution_count": 1,
   "metadata": {
    "collapsed": true
   },
   "outputs": [],
   "source": [
    "import pydub"
   ]
  },
  {
   "cell_type": "code",
   "execution_count": 2,
   "metadata": {
    "collapsed": true
   },
   "outputs": [],
   "source": [
    "from pydub import AudioSegment\n",
    "from pydub.silence import split_on_silence\n",
    "from pydub.silence import detect_silence\n",
    "from pydub.silence import detect_nonsilent\n",
    "from pydub.effects import strip_silence"
   ]
  },
  {
   "cell_type": "markdown",
   "metadata": {},
   "source": [
    "Read the Input Wav file"
   ]
  },
  {
   "cell_type": "code",
   "execution_count": 3,
   "metadata": {
    "collapsed": true
   },
   "outputs": [],
   "source": [
    "sound = AudioSegment.from_wav(\"/home/lenovo/Yogendra/SpeechSegmentationProgram/TextDependent/D1FD21RDH1.WAV\")"
   ]
  },
  {
   "cell_type": "markdown",
   "metadata": {
    "collapsed": true
   },
   "source": [
    "# use of detect_silence"
   ]
  },
  {
   "cell_type": "markdown",
   "metadata": {},
   "source": [
    "\"\"\"keep_silence = 100\n",
    "not_silence_ranges = split_on_silence(sound, min_silence_len = 1000, silence_thresh = -26)\n",
    "\n",
    "chunks = []\n",
    "for start_i, end_i in not_silence_ranges:\n",
    "     start_i = max(0, start_i - keep_silence)\n",
    "     end_i += keep_silence\n",
    "     chunks.append(sound[start_i:end_i])\n",
    "\n",
    "for i, chunk in enumerate(chunks):\n",
    "   chunk.export(\"/home/student/Desktop/pp/chunk{0}.wav\".format(i), format=\"wav\")\"\"\"\n"
   ]
  },
  {
   "cell_type": "markdown",
   "metadata": {},
   "source": [
    "# Changes for Slicing_\"use of detect_silence\""
   ]
  },
  {
   "cell_type": "code",
   "execution_count": 31,
   "metadata": {},
   "outputs": [
    {
     "name": "stdout",
     "output_type": "stream",
     "text": [
      "NOT Sufficient Data File\n",
      "NOT Sufficient Data File\n",
      "5000 8145 3145\n",
      "10595 11145 550\n",
      "11795 12840 1045\n",
      "13775 15310 1535\n",
      "15735 18520 2785\n",
      "NOT Sufficient Data File\n",
      "20240 25175 4935\n",
      "25475 28200 2725\n",
      "28770 31510 2740\n",
      "31960 37600 5640\n",
      "37995 42560 4565\n",
      "43050 46565 3515\n",
      "46810 51600 4790\n",
      "52035 57550 5515\n",
      "58030 64085 6055\n",
      "64810 67175 2365\n",
      "67540 71960 4420\n",
      "72440 82280 9840\n",
      "82680 99325 16645\n",
      "99540 100805 1265\n",
      "101025 105310 4285\n",
      "105770 108775 3005\n",
      "109065 115640 6575\n",
      "116645 119300 2655\n",
      "119975 122905 2930\n",
      "123270 124435 1165\n",
      "124940 126235 1295\n",
      "126475 131995 5520\n",
      "132285 149145 16860\n",
      "149550 167405 17855\n",
      "167650 170875 3225\n",
      "171350 182630 11280\n",
      "183445 196105 12660\n",
      "196460 206705 10245\n",
      "207525 218210 10685\n",
      "218525 220895 2370\n",
      "221310 229470 8160\n",
      "229995 235325 5330\n",
      "235585 239605 4020\n",
      "239845 241205 1360\n",
      "241455 243075 1620\n",
      "243645 244650 1005\n",
      "244915 248670 3755\n",
      "249100 259510 10410\n",
      "NOT Sufficient Data File\n"
     ]
    }
   ],
   "source": [
    "silence_ranges = detect_silence(sound, min_silence_len = 200, silence_thresh = -36, seek_step = 5)\n",
    "chunks_2 = []\n",
    "chunks_3 = []\n",
    "chunks_4 = []\n",
    "chunks_5 = []\n",
    "chunks_6 = []\n",
    "chunks_7 = []\n",
    "chunks_8 = []\n",
    "chunks_9 = []\n",
    "chunks_10 = []\n",
    "chunks_11 = []\n",
    "chunks_12 = []\n",
    "chunks_13 = []\n",
    "chunks_14 = []\n",
    "chunks_15 = []\n",
    "chunks_16 = []\n",
    "chunks_17 = []\n",
    "chunks_18 = []\n",
    "chunks_19 = []\n",
    "chunks_20 = []\n",
    "chunks_21 = []\n",
    "temp3 = 0\n",
    "\n",
    "\n",
    "for start_i, end_i in silence_ranges:\n",
    "    temp1 = start_i;\n",
    "    temp2 = end_i;\n",
    "    start_i = min(temp3, start_i)\n",
    "    end_i = temp1;\n",
    "    temp3 = temp2;\n",
    "    if ((end_i-start_i)<500):\n",
    "        print('NOT Sufficient Data File')\n",
    "    \n",
    "    elif ((end_i-start_i)>500 and (end_i-start_i)<1500):\n",
    "        print(start_i,end_i,end_i-start_i ) \n",
    "        chunks_2.append(sound[start_i:end_i])\n",
    "        \n",
    "    elif ((end_i-start_i)>1500 and (end_i-start_i)<2500):\n",
    "        print(start_i,end_i,end_i-start_i ) \n",
    "        chunks_3.append(sound[start_i:end_i])\n",
    "        \n",
    "    elif ((end_i-start_i)>2500 and (end_i-start_i)<3500):\n",
    "        print(start_i,end_i,end_i-start_i ) \n",
    "        chunks_4.append(sound[start_i:end_i])\n",
    "        \n",
    "    elif ((end_i-start_i)>3500 and (end_i-start_i)<4500):\n",
    "        print(start_i,end_i,end_i-start_i ) \n",
    "        chunks_5.append(sound[start_i:end_i])\n",
    "        \n",
    "    elif ((end_i-start_i)>4500 and (end_i-start_i)<5500):\n",
    "        print(start_i,end_i,end_i-start_i ) \n",
    "        chunks_6.append(sound[start_i:end_i])\n",
    "        \n",
    "    elif ((end_i-start_i)>5500 and (end_i-start_i)<6500):\n",
    "        print(start_i,end_i,end_i-start_i ) \n",
    "        chunks_7.append(sound[start_i:end_i])\n",
    "        \n",
    "    elif ((end_i-start_i)>6500 and (end_i-start_i)<7500):\n",
    "        print(start_i,end_i,end_i-start_i ) \n",
    "        chunks_8.append(sound[start_i:end_i])\n",
    "    \n",
    "    elif ((end_i-start_i)>7500 and (end_i-start_i)<8500):\n",
    "        print(start_i,end_i,end_i-start_i ) \n",
    "        chunks_9.append(sound[start_i:end_i])\n",
    "    \n",
    "    elif ((end_i-start_i)>8500 and (end_i-start_i)<9500):\n",
    "        print(start_i,end_i,end_i-start_i ) \n",
    "        chunks_10.append(sound[start_i:end_i])\n",
    "        \n",
    "    elif ((end_i-start_i)>9500 and (end_i-start_i)<10500):\n",
    "        print(start_i,end_i,end_i-start_i ) \n",
    "        chunks_11.append(sound[start_i:end_i])\n",
    "        \n",
    "    elif ((end_i-start_i)>10500 and (end_i-start_i)<11500):\n",
    "        print(start_i,end_i,end_i-start_i ) \n",
    "        chunks_12.append(sound[start_i:end_i])\n",
    "        \n",
    "    elif ((end_i-start_i)>11500 and (end_i-start_i)<12500):\n",
    "        print(start_i,end_i,end_i-start_i ) \n",
    "        chunks_13.append(sound[start_i:end_i])\n",
    "        \n",
    "    elif ((end_i-start_i)>12500 and (end_i-start_i)<13500):\n",
    "        print(start_i,end_i,end_i-start_i ) \n",
    "        chunks_14.append(sound[start_i:end_i])\n",
    "        \n",
    "    elif ((end_i-start_i)>13500 and (end_i-start_i)<14500):\n",
    "        print(start_i,end_i,end_i-start_i ) \n",
    "        chunks_15.append(sound[start_i:end_i])\n",
    "        \n",
    "    elif ((end_i-start_i)>14500 and (end_i-start_i)<15500):\n",
    "        print(start_i,end_i,end_i-start_i ) \n",
    "        chunks_16.append(sound[start_i:end_i])\n",
    "        \n",
    "    elif ((end_i-start_i)>15500 and (end_i-start_i)<16500):\n",
    "        print(start_i,end_i,end_i-start_i ) \n",
    "        chunks_17.append(sound[start_i:end_i])\n",
    "        \n",
    "    elif ((end_i-start_i)>16500 and (end_i-start_i)<17500):\n",
    "        print(start_i,end_i,end_i-start_i ) \n",
    "        chunks_18.append(sound[start_i:end_i])\n",
    "    \n",
    "    elif ((end_i-start_i)>17500 and (end_i-start_i)<18500):\n",
    "        print(start_i,end_i,end_i-start_i ) \n",
    "        chunks_19.append(sound[start_i:end_i])\n",
    "    \n",
    "    elif ((end_i-start_i)>18500 and (end_i-start_i)<19500):\n",
    "        print(start_i,end_i,end_i-start_i ) \n",
    "        chunks_20.append(sound[start_i:end_i])\n",
    "    else:\n",
    "        print(start_i,end_i,end_i-start_i )\n",
    "        chunks_21.append(sound[start_i:end_i])"
   ]
  },
  {
   "cell_type": "markdown",
   "metadata": {},
   "source": [
    "## Saving One_Chunk files of Time Length = 2sec"
   ]
  },
  {
   "cell_type": "code",
   "execution_count": 32,
   "metadata": {},
   "outputs": [],
   "source": [
    "for i, chunk in enumerate(chunks_2):\n",
    "    chunk.export(\"/home/lenovo/Yogendra/SpeechSegmentationProgram/Aug18Split/chunks_2/chunk{0}.wav\".format(i), format=\"wav\")"
   ]
  },
  {
   "cell_type": "markdown",
   "metadata": {},
   "source": [
    "## Saving Chunks in Seperate Time Lengths =3 sec's to 20 sec's"
   ]
  },
  {
   "cell_type": "code",
   "execution_count": 33,
   "metadata": {},
   "outputs": [],
   "source": [
    "for i, chunk in enumerate(chunks_3):\n",
    "    chunk.export(\"/home/lenovo/Yogendra/SpeechSegmentationProgram/Aug18Split/chunks_3/chunk{0}.wav\".format(i), format=\"wav\")\n",
    "for i, chunk in enumerate(chunks_4):\n",
    "    chunk.export(\"/home/lenovo/Yogendra/SpeechSegmentationProgram/Aug18Split/chunks_4/chunk{0}.wav\".format(i), format=\"wav\")\n",
    "for i, chunk in enumerate(chunks_5):\n",
    "    chunk.export(\"/home/lenovo/Yogendra/SpeechSegmentationProgram/Aug18Split/chunks_5/chunk{0}.wav\".format(i), format=\"wav\")    \n",
    "for i, chunk in enumerate(chunks_6):\n",
    "    chunk.export(\"/home/lenovo/Yogendra/SpeechSegmentationProgram/Aug18Split/chunks_6/chunk{0}.wav\".format(i), format=\"wav\")\n",
    "for i, chunk in enumerate(chunks_7):\n",
    "    chunk.export(\"/home/lenovo/Yogendra/SpeechSegmentationProgram/Aug18Split/chunks_7/chunk{0}.wav\".format(i), format=\"wav\")\n",
    "for i, chunk in enumerate(chunks_8):\n",
    "    chunk.export(\"/home/lenovo/Yogendra/SpeechSegmentationProgram/Aug18Split/chunks_8/chunk{0}.wav\".format(i), format=\"wav\")\n",
    "for i, chunk in enumerate(chunks_9):\n",
    "    chunk.export(\"/home/lenovo/Yogendra/SpeechSegmentationProgram/Aug18Split/chunks_9/chunk{0}.wav\".format(i), format=\"wav\")    \n",
    "for i, chunk in enumerate(chunks_10):\n",
    "    chunk.export(\"/home/lenovo/Yogendra/SpeechSegmentationProgram/Aug18Split/chunks_10/chunk{0}.wav\".format(i), format=\"wav\")\n",
    "for i, chunk in enumerate(chunks_11):\n",
    "    chunk.export(\"/home/lenovo/Yogendra/SpeechSegmentationProgram/Aug18Split/chunks_11/chunk{0}.wav\".format(i), format=\"wav\")\n",
    "for i, chunk in enumerate(chunks_12):\n",
    "    chunk.export(\"/home/lenovo/Yogendra/SpeechSegmentationProgram/Aug18Split/chunks_12/chunk{0}.wav\".format(i), format=\"wav\")\n",
    "for i, chunk in enumerate(chunks_13):\n",
    "    chunk.export(\"/home/lenovo/Yogendra/SpeechSegmentationProgram/Aug18Split/chunks_13/chunk{0}.wav\".format(i), format=\"wav\")\n",
    "for i, chunk in enumerate(chunks_14):\n",
    "    chunk.export(\"/home/lenovo/Yogendra/SpeechSegmentationProgram/Aug18Split/chunks_14/chunk{0}.wav\".format(i), format=\"wav\")\n",
    "for i, chunk in enumerate(chunks_15):\n",
    "    chunk.export(\"/home/lenovo/Yogendra/SpeechSegmentationProgram/Aug18Split/chunks_15/chunk{0}.wav\".format(i), format=\"wav\")    \n",
    "for i, chunk in enumerate(chunks_16):\n",
    "    chunk.export(\"/home/lenovo/Yogendra/SpeechSegmentationProgram/Aug18Split/chunks_16/chunk{0}.wav\".format(i), format=\"wav\")\n",
    "for i, chunk in enumerate(chunks_17):\n",
    "    chunk.export(\"/home/lenovo/Yogendra/SpeechSegmentationProgram/Aug18Split/chunks_17/chunk{0}.wav\".format(i), format=\"wav\")\n",
    "for i, chunk in enumerate(chunks_18):\n",
    "    chunk.export(\"/home/lenovo/Yogendra/SpeechSegmentationProgram/Aug18Split/chunks_18/chunk{0}.wav\".format(i), format=\"wav\")\n",
    "for i, chunk in enumerate(chunks_19):\n",
    "    chunk.export(\"/home/lenovo/Yogendra/SpeechSegmentationProgram/Aug18Split/chunks_19/chunk{0}.wav\".format(i), format=\"wav\")    \n",
    "for i, chunk in enumerate(chunks_20):\n",
    "    chunk.export(\"/home/lenovo/Yogendra/SpeechSegmentationProgram/Aug18Split/chunks_20/chunk{0}.wav\".format(i), format=\"wav\")    "
   ]
  },
  {
   "cell_type": "code",
   "execution_count": null,
   "metadata": {
    "collapsed": true
   },
   "outputs": [],
   "source": []
  }
 ],
 "metadata": {
  "kernelspec": {
   "display_name": "Python 3",
   "language": "python",
   "name": "python3"
  },
  "language_info": {
   "codemirror_mode": {
    "name": "ipython",
    "version": 3
   },
   "file_extension": ".py",
   "mimetype": "text/x-python",
   "name": "python",
   "nbconvert_exporter": "python",
   "pygments_lexer": "ipython3",
   "version": "3.6.4"
  }
 },
 "nbformat": 4,
 "nbformat_minor": 2
}
